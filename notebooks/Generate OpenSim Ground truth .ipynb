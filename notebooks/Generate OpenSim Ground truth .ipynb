{
 "cells": [
  {
   "cell_type": "code",
   "execution_count": 2,
   "id": "cf77c2b2",
   "metadata": {},
   "outputs": [],
   "source": [
    "import torch\n",
    "import sys\n",
    "sys.path.append(\"D:/ms_model_estimation\")"
   ]
  },
  {
   "cell_type": "code",
   "execution_count": 3,
   "id": "390b580f",
   "metadata": {},
   "outputs": [
    {
     "ename": "ModuleNotFoundError",
     "evalue": "No module named 'ms_model_estimation'",
     "output_type": "error",
     "traceback": [
      "\u001B[1;31m---------------------------------------------------------------------------\u001B[0m",
      "\u001B[1;31mModuleNotFoundError\u001B[0m                       Traceback (most recent call last)",
      "Input \u001B[1;32mIn [3]\u001B[0m, in \u001B[0;36m<cell line: 1>\u001B[1;34m()\u001B[0m\n\u001B[1;32m----> 1\u001B[0m \u001B[38;5;28;01mfrom\u001B[39;00m \u001B[38;5;21;01mms_model_estimation\u001B[39;00m\u001B[38;5;21;01m.\u001B[39;00m\u001B[38;5;21;01mopensim\u001B[39;00m\u001B[38;5;21;01m.\u001B[39;00m\u001B[38;5;21;01mOpenSimModel\u001B[39;00m \u001B[38;5;28;01mimport\u001B[39;00m OpenSimModel\n\u001B[0;32m      2\u001B[0m \u001B[38;5;28;01mfrom\u001B[39;00m \u001B[38;5;21;01mms_model_estimation\u001B[39;00m\u001B[38;5;21;01m.\u001B[39;00m\u001B[38;5;21;01msmplh\u001B[39;00m\u001B[38;5;21;01m.\u001B[39;00m\u001B[38;5;21;01mscalingIKInf\u001B[39;00m \u001B[38;5;28;01mimport\u001B[39;00m IKTaskSet, scalingIKSet, scaleSet\n\u001B[0;32m      3\u001B[0m \u001B[38;5;28;01mfrom\u001B[39;00m \u001B[38;5;21;01mms_model_estimation\u001B[39;00m\u001B[38;5;21;01m.\u001B[39;00m\u001B[38;5;21;01mopensim\u001B[39;00m\u001B[38;5;21;01m.\u001B[39;00m\u001B[38;5;21;01mDataReader\u001B[39;00m \u001B[38;5;28;01mimport\u001B[39;00m DataReader\n",
      "\u001B[1;31mModuleNotFoundError\u001B[0m: No module named 'ms_model_estimation'"
     ]
    }
   ],
   "source": [
    "from ms_model_estimation.opensim.OpenSimModel import OpenSimModel\n",
    "from ms_model_estimation.smplh.scalingIKInf import IKTaskSet, scalingIKSet, scaleSet\n",
    "from ms_model_estimation.opensim.DataReader import DataReader\n",
    "from ms_model_estimation.opensim.OSLabelGenerator import BMLAmassOpenSimGTGenerator\n",
    "from ms_model_estimation.pyOpenSim.TrcGenerator import TrcGenerator\n",
    "import pickle\n"
   ]
  },
  {
   "cell_type": "code",
   "execution_count": 3,
   "id": "83771e81",
   "metadata": {},
   "outputs": [],
   "source": [
    "modelPath=\"D:/ms_model_estimation/dataset/opensim/BMLmovi/full_body.osim\"\n",
    "amassFolder=\"D:/mscWeitseYangLocal/dataset/amass/\"\n",
    "v3dFolder = \"D:/mscWeitseYangLocal/dataset/BMLmovi/v3d/F/\""
   ]
  },
  {
   "cell_type": "code",
   "execution_count": 4,
   "id": "71ffc613",
   "metadata": {},
   "outputs": [],
   "source": [
    "dataReader=DataReader()\n",
    "ikset=dataReader.read_ik_set(IKTaskSet)\n",
    "scalingIKSet=dataReader.read_ik_set(scalingIKSet)\n",
    "scaleset=dataReader.read_scale_set(scaleSet)"
   ]
  },
  {
   "cell_type": "code",
   "execution_count": 5,
   "id": "8ca40e68",
   "metadata": {},
   "outputs": [],
   "source": [
    "gtGenerator=BMLAmassOpenSimGTGenerator(\n",
    "    v3dFolder, amassFolder, modelPath, scaleset , scalingIKSet , ikset,\n",
    "    reScale=True, reIK=True, scaleOnly=False\n",
    ")"
   ]
  },
  {
   "cell_type": "code",
   "execution_count": 6,
   "id": "5da615aa",
   "metadata": {},
   "outputs": [],
   "source": [
    "npzPathList=gtGenerator.traverse_npz_files(\"BMLmovi\")"
   ]
  },
  {
   "cell_type": "code",
   "execution_count": 7,
   "id": "773ae3a8",
   "metadata": {},
   "outputs": [],
   "source": [
    "for path in npzPathList[:2]:\n",
    "    gtGenerator.generate(path)"
   ]
  },
  {
   "cell_type": "code",
   "execution_count": 8,
   "id": "a4ce3d7c",
   "metadata": {},
   "outputs": [],
   "source": [
    "from ms_model_estimation import Postscaling_LockedCoordinates, Postscaling_UnlockedConstraints, ChangingParentMarkers\n"
   ]
  },
  {
   "cell_type": "code",
   "execution_count": 9,
   "id": "c351eceb",
   "metadata": {},
   "outputs": [
    {
     "data": {
      "text/plain": [
       "['sternoclavicular_r2_con',\n",
       " 'sternoclavicular_r3_con',\n",
       " 'acromioclavicular_r2_con',\n",
       " 'sternoclavicular_r2_con_l',\n",
       " 'sternoclavicular_r3_con_l',\n",
       " 'acromioclavicular_r2_con_l']"
      ]
     },
     "execution_count": 9,
     "metadata": {},
     "output_type": "execute_result"
    }
   ],
   "source": [
    "gtGenerator.opensimModel.postscaling_unlockedConstraints"
   ]
  },
  {
   "cell_type": "code",
   "execution_count": null,
   "id": "c26ef27f",
   "metadata": {},
   "outputs": [],
   "source": []
  }
 ],
 "metadata": {
  "kernelspec": {
   "display_name": "Python [conda env:d3ke]",
   "language": "python",
   "name": "conda-env-d3ke-py"
  },
  "language_info": {
   "codemirror_mode": {
    "name": "ipython",
    "version": 3
   },
   "file_extension": ".py",
   "mimetype": "text/x-python",
   "name": "python",
   "nbconvert_exporter": "python",
   "pygments_lexer": "ipython3",
   "version": "3.8.12"
  },
  "vscode": {
   "interpreter": {
    "hash": "03372292b8f9b64427c050f4895f340ce310e6823418634e219875e1c9e6c2d8"
   }
  }
 },
 "nbformat": 4,
 "nbformat_minor": 5
}
